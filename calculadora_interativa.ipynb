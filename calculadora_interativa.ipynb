{
 "cells": [
  {
   "cell_type": "markdown",
   "id": "8acdf945-9959-4e1f-aa29-bb611961cc04",
   "metadata": {},
   "source": [
    "## Notebook como uma calculadora interativa\n"
   ]
  },
  {
   "cell_type": "markdown",
   "id": "8c130f88-713b-4ea9-988f-b08e88b7350f",
   "metadata": {},
   "source": [
    "## Principais operações\n"
   ]
  },
  {
   "cell_type": "code",
   "execution_count": 2,
   "id": "74c0fc22-b3f6-4a46-8ae3-36a4979b423b",
   "metadata": {},
   "outputs": [
    {
     "data": {
      "text/plain": [
       "4"
      ]
     },
     "execution_count": 2,
     "metadata": {},
     "output_type": "execute_result"
    }
   ],
   "source": [
    "2 + 2 "
   ]
  },
  {
   "cell_type": "code",
   "execution_count": 4,
   "id": "079803b9-47ae-43bf-b03f-db3f947c1cd1",
   "metadata": {},
   "outputs": [
    {
     "data": {
      "text/plain": [
       "4"
      ]
     },
     "execution_count": 4,
     "metadata": {},
     "output_type": "execute_result"
    }
   ],
   "source": [
    "2 * 2 "
   ]
  },
  {
   "cell_type": "code",
   "execution_count": 5,
   "id": "1bd245e8-dea2-46a8-b01a-7194101ea57d",
   "metadata": {},
   "outputs": [
    {
     "data": {
      "text/plain": [
       "4"
      ]
     },
     "execution_count": 5,
     "metadata": {},
     "output_type": "execute_result"
    }
   ],
   "source": [
    "2 ** 2"
   ]
  },
  {
   "cell_type": "code",
   "execution_count": 8,
   "id": "8fb39907-f42a-4b0b-90ea-02f830de88f7",
   "metadata": {},
   "outputs": [
    {
     "data": {
      "text/plain": [
       "1.0"
      ]
     },
     "execution_count": 8,
     "metadata": {},
     "output_type": "execute_result"
    }
   ],
   "source": [
    "2 / 2 #resultado será float mesmo que os números sejam int"
   ]
  },
  {
   "cell_type": "code",
   "execution_count": 9,
   "id": "143aeaf8-a7d9-40c8-ad9f-388a3d0bb6a1",
   "metadata": {},
   "outputs": [
    {
     "data": {
      "text/plain": [
       "2"
      ]
     },
     "execution_count": 9,
     "metadata": {},
     "output_type": "execute_result"
    }
   ],
   "source": [
    "5 // 2"
   ]
  },
  {
   "cell_type": "markdown",
   "id": "4a1946fc-fd04-4430-9501-1524d042c07d",
   "metadata": {},
   "source": [
    "## Ordem das operações\n"
   ]
  },
  {
   "cell_type": "code",
   "execution_count": 10,
   "id": "9ec34acd-3996-4577-bcfe-ddfd499d2ebc",
   "metadata": {},
   "outputs": [
    {
     "data": {
      "text/plain": [
       "8"
      ]
     },
     "execution_count": 10,
     "metadata": {},
     "output_type": "execute_result"
    }
   ],
   "source": [
    "2 + 2 * 3"
   ]
  },
  {
   "cell_type": "code",
   "execution_count": 11,
   "id": "a3df038b-b6c8-45fb-92fe-754319254f53",
   "metadata": {},
   "outputs": [
    {
     "data": {
      "text/plain": [
       "12"
      ]
     },
     "execution_count": 11,
     "metadata": {},
     "output_type": "execute_result"
    }
   ],
   "source": [
    "(2 + 2) * 3"
   ]
  },
  {
   "cell_type": "markdown",
   "id": "c0da2e1d-5961-4c17-bd13-48892ade3f1b",
   "metadata": {},
   "source": [
    "## Representando potências de 10"
   ]
  },
  {
   "cell_type": "code",
   "execution_count": 12,
   "id": "74b735a6-b364-42e6-b849-217ac1702f39",
   "metadata": {},
   "outputs": [
    {
     "data": {
      "text/plain": [
       "150.0"
      ]
     },
     "execution_count": 12,
     "metadata": {},
     "output_type": "execute_result"
    }
   ],
   "source": [
    "1.5 * 10**2"
   ]
  },
  {
   "cell_type": "code",
   "execution_count": 13,
   "id": "0d28efb4-8ca3-4bab-8452-0956ce2e31b7",
   "metadata": {},
   "outputs": [
    {
     "data": {
      "text/plain": [
       "15000000000.0"
      ]
     },
     "execution_count": 13,
     "metadata": {},
     "output_type": "execute_result"
    }
   ],
   "source": [
    "1.5 * 10**10"
   ]
  },
  {
   "cell_type": "code",
   "execution_count": 14,
   "id": "9b0f6917-f1c0-411a-bde7-06152f53cfbd",
   "metadata": {},
   "outputs": [
    {
     "data": {
      "text/plain": [
       "1.5e+20"
      ]
     },
     "execution_count": 14,
     "metadata": {},
     "output_type": "execute_result"
    }
   ],
   "source": [
    "1.5 * 10**20"
   ]
  },
  {
   "cell_type": "markdown",
   "id": "37ce3319-e345-4675-b2c6-7b7538a01720",
   "metadata": {},
   "source": [
    "## Facilitando a leitura de números grandes"
   ]
  },
  {
   "cell_type": "code",
   "execution_count": 15,
   "id": "9c092344-5f8f-408c-9a14-a64bcfc1e737",
   "metadata": {},
   "outputs": [
    {
     "data": {
      "text/plain": [
       "1000"
      ]
     },
     "execution_count": 15,
     "metadata": {},
     "output_type": "execute_result"
    }
   ],
   "source": [
    "1000"
   ]
  },
  {
   "cell_type": "code",
   "execution_count": 16,
   "id": "1803cc26-b1ba-4bc8-9747-d2ddf2e5948d",
   "metadata": {},
   "outputs": [
    {
     "data": {
      "text/plain": [
       "1000"
      ]
     },
     "execution_count": 16,
     "metadata": {},
     "output_type": "execute_result"
    }
   ],
   "source": [
    "1_000"
   ]
  },
  {
   "cell_type": "code",
   "execution_count": 17,
   "id": "e03ed72f-88d8-4d7d-be88-932b9af262ab",
   "metadata": {},
   "outputs": [
    {
     "data": {
      "text/plain": [
       "1000000"
      ]
     },
     "execution_count": 17,
     "metadata": {},
     "output_type": "execute_result"
    }
   ],
   "source": [
    "1000000"
   ]
  },
  {
   "cell_type": "code",
   "execution_count": 18,
   "id": "069b5e17-6687-419a-ba64-9f57b7652320",
   "metadata": {},
   "outputs": [
    {
     "data": {
      "text/plain": [
       "1000000"
      ]
     },
     "execution_count": 18,
     "metadata": {},
     "output_type": "execute_result"
    }
   ],
   "source": [
    "1_000_000"
   ]
  },
  {
   "cell_type": "markdown",
   "id": "4da08b7c-6c48-4481-8e73-a6bd5ea12a6d",
   "metadata": {},
   "source": [
    "## Cuidados com float"
   ]
  },
  {
   "cell_type": "code",
   "execution_count": 19,
   "id": "34609d03-3542-403b-9918-dbb9261d084b",
   "metadata": {},
   "outputs": [
    {
     "data": {
      "text/plain": [
       "4.0"
      ]
     },
     "execution_count": 19,
     "metadata": {},
     "output_type": "execute_result"
    }
   ],
   "source": [
    "2.0 + 2"
   ]
  },
  {
   "cell_type": "code",
   "execution_count": 20,
   "id": "5fba83e4-7a4a-49af-a9f4-851a93ec3263",
   "metadata": {},
   "outputs": [
    {
     "data": {
      "text/plain": [
       "0.4"
      ]
     },
     "execution_count": 20,
     "metadata": {},
     "output_type": "execute_result"
    }
   ],
   "source": [
    "0.2 + 0.2"
   ]
  },
  {
   "cell_type": "code",
   "execution_count": 21,
   "id": "80fbacc6-d9bb-4541-9e91-83f5598cc9e6",
   "metadata": {
    "jp-MarkdownHeadingCollapsed": true
   },
   "outputs": [
    {
     "data": {
      "text/plain": [
       "0.30000000000000004"
      ]
     },
     "execution_count": 21,
     "metadata": {},
     "output_type": "execute_result"
    }
   ],
   "source": [
    "0.1 + 0.2"
   ]
  },
  {
   "cell_type": "code",
   "execution_count": 22,
   "id": "5c350f9a-e1f3-4ee6-a078-3c32671fd978",
   "metadata": {
    "jp-MarkdownHeadingCollapsed": true
   },
   "outputs": [
    {
     "data": {
      "text/plain": [
       "0.6000000000000001"
      ]
     },
     "execution_count": 22,
     "metadata": {},
     "output_type": "execute_result"
    }
   ],
   "source": [
    "2 * (0.1 + 0.2)\n"
   ]
  },
  {
   "cell_type": "markdown",
   "id": "cf066358-b475-4a2f-a289-8d20d3887727",
   "metadata": {},
   "source": [
    "Uma possível solução é trabalhar bom inteiros e apenas no final converter para float:"
   ]
  },
  {
   "cell_type": "code",
   "execution_count": 23,
   "id": "7286e065-a55d-41a2-a766-d2ecef272843",
   "metadata": {},
   "outputs": [
    {
     "data": {
      "text/plain": [
       "30"
      ]
     },
     "execution_count": 23,
     "metadata": {},
     "output_type": "execute_result"
    }
   ],
   "source": [
    "10 + 20"
   ]
  },
  {
   "cell_type": "code",
   "execution_count": 24,
   "id": "43ee7ecb-a5bd-498d-bf55-3e29511ff0fa",
   "metadata": {},
   "outputs": [
    {
     "data": {
      "text/plain": [
       "60"
      ]
     },
     "execution_count": 24,
     "metadata": {},
     "output_type": "execute_result"
    }
   ],
   "source": [
    "2 * (10 + 20)"
   ]
  },
  {
   "cell_type": "code",
   "execution_count": 25,
   "id": "6fa55da2-b6a8-47be-b49c-1a5c7469ba23",
   "metadata": {},
   "outputs": [
    {
     "data": {
      "text/plain": [
       "0.6"
      ]
     },
     "execution_count": 25,
     "metadata": {},
     "output_type": "execute_result"
    }
   ],
   "source": [
    "60/100"
   ]
  },
  {
   "cell_type": "markdown",
   "id": "a04bfdbc-1f15-46fd-b15b-f60dfbf4c726",
   "metadata": {},
   "source": [
    "## Trabalhando com texto - strings"
   ]
  },
  {
   "cell_type": "code",
   "execution_count": null,
   "id": "f22abb6d-3a1a-43e3-ac55-21e0c5a45b2f",
   "metadata": {},
   "outputs": [],
   "source": []
  },
  {
   "cell_type": "code",
   "execution_count": null,
   "id": "b819c446-cee1-4cf2-b165-a868ad8009c1",
   "metadata": {},
   "outputs": [],
   "source": []
  }
 ],
 "metadata": {
  "kernelspec": {
   "display_name": "Python 3 (ipykernel)",
   "language": "python",
   "name": "python3"
  },
  "language_info": {
   "codemirror_mode": {
    "name": "ipython",
    "version": 3
   },
   "file_extension": ".py",
   "mimetype": "text/x-python",
   "name": "python",
   "nbconvert_exporter": "python",
   "pygments_lexer": "ipython3",
   "version": "3.11.5"
  }
 },
 "nbformat": 4,
 "nbformat_minor": 5
}
